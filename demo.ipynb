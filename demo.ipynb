{
 "cells": [
  {
   "cell_type": "code",
   "execution_count": 3,
   "id": "4f7d5321-d82b-4ed4-8136-832f932b30b5",
   "metadata": {},
   "outputs": [
    {
     "data": {
      "text/plain": [
       "<module 'stac_ipyleaflet' from '/Users/aimeebarciauskas/github/maap-project/stac_ipyleaflet/stac_ipyleaflet/__init__.py'>"
      ]
     },
     "execution_count": 3,
     "metadata": {},
     "output_type": "execute_result"
    }
   ],
   "source": [
    "%matplotlib inline\n",
    "import stac_ipyleaflet\n",
    "import importlib\n",
    "importlib.reload(stac_ipyleaflet)"
   ]
  },
  {
   "cell_type": "markdown",
   "id": "9648b56f-dbf3-4aac-af19-643067596220",
   "metadata": {},
   "source": [
    "# Use ipyleaflet to visually explore MAAP data\n",
    "\n",
    "Inspired by leafmap."
   ]
  },
  {
   "cell_type": "code",
   "execution_count": 4,
   "id": "8e4a59f2-1aa6-4b82-86e5-90d0c3c7ffe2",
   "metadata": {},
   "outputs": [
    {
     "data": {
      "application/vnd.jupyter.widget-view+json": {
       "model_id": "862a3ea276cc463cabdb350729e00d57",
       "version_major": 2,
       "version_minor": 0
      },
      "text/plain": [
       "StacIpyleaflet(center=[20, 0], controls=(ZoomControl(options=['position', 'zoom_in_text', 'zoom_in_title', 'zo…"
      ]
     },
     "execution_count": 4,
     "metadata": {},
     "output_type": "execute_result"
    }
   ],
   "source": [
    "import ipywidgets\n",
    "m = stac_ipyleaflet.StacIpyleaflet(zoom=4, layout=ipywidgets.Layout(height=\"800px\"))\n",
    "m.draw_biomass_map()\n",
    "m"
   ]
  },
  {
   "cell_type": "code",
   "execution_count": 5,
   "id": "0fe3da3d-63c8-4de5-a40b-34ce0625962d",
   "metadata": {},
   "outputs": [],
   "source": [
    "import ipyleaflet\n",
    "visible_layers = [layer for layer in m.layers if type(layer) == ipyleaflet.TileLayer and layer.visible and not layer.base]"
   ]
  },
  {
   "cell_type": "code",
   "execution_count": 6,
   "id": "f0560ff8-39a1-439b-ab28-364bc025ce26",
   "metadata": {},
   "outputs": [],
   "source": [
    "layer_url = visible_layers[0].url"
   ]
  },
  {
   "cell_type": "code",
   "execution_count": 7,
   "id": "2909bf72-058d-4d5b-9bce-f220093038f6",
   "metadata": {},
   "outputs": [
    {
     "data": {
      "text/plain": [
       "'https://titiler.maap-project.org/mosaicjson/mosaics/f343756d-bf15-4095-a8f3-f4fcbb26b5f9/tiles/{z}/{x}/{y}?rescale=0,400&bidx=1&colormap_name=gist_earth_r'"
      ]
     },
     "execution_count": 7,
     "metadata": {},
     "output_type": "execute_result"
    }
   ],
   "source": [
    "layer_url"
   ]
  },
  {
   "cell_type": "code",
   "execution_count": 8,
   "id": "606cedb8-8fec-44c4-b581-4a942476b6cd",
   "metadata": {},
   "outputs": [],
   "source": [
    "import re\n",
    "match = re.search('(https://.+)/tiles', layer_url)"
   ]
  },
  {
   "cell_type": "code",
   "execution_count": 9,
   "id": "82679b4b-dc3e-47c8-94a4-86238c921fc5",
   "metadata": {},
   "outputs": [
    {
     "data": {
      "text/plain": [
       "'https://titiler.maap-project.org/mosaicjson/mosaics/f343756d-bf15-4095-a8f3-f4fcbb26b5f9'"
      ]
     },
     "execution_count": 9,
     "metadata": {},
     "output_type": "execute_result"
    }
   ],
   "source": [
    "mosaic_url = match.groups()[0]\n",
    "mosaic_url"
   ]
  },
  {
   "cell_type": "code",
   "execution_count": 10,
   "id": "441c60e1-5fab-4a54-9c38-48ddb4cda17c",
   "metadata": {},
   "outputs": [],
   "source": [
    "from shapely.geometry import Polygon\n",
    "geometries = [m.draw_control.last_draw['geometry']]\n",
    "if geometries[0]:\n",
    "    box = Polygon(geometries[0]['coordinates'][0])\n",
    "    bounds = box.bounds\n",
    "str_bounds = f\"{bounds[0]},{bounds[1]},{bounds[2]},{bounds[3]}\""
   ]
  },
  {
   "cell_type": "code",
   "execution_count": 11,
   "id": "1319263f-038e-4c69-bc80-079d3c0c834a",
   "metadata": {},
   "outputs": [],
   "source": [
    "assets_endpoint = f\"{m.titiler_url}/mosaicjson/{str_bounds}/assets?url={mosaic_url}/mosaicjson\""
   ]
  },
  {
   "cell_type": "code",
   "execution_count": 12,
   "id": "9984bb12-6ce5-4253-b41b-1121394fa40b",
   "metadata": {},
   "outputs": [],
   "source": [
    "import requests\n",
    "assets_response = requests.get(assets_endpoint)\n",
    "assets = assets_response.json()"
   ]
  },
  {
   "cell_type": "code",
   "execution_count": 13,
   "id": "f0eefaa3-0295-40f6-bcc0-b424045beb17",
   "metadata": {},
   "outputs": [
    {
     "data": {
      "text/plain": [
       "(['s3://maap-landing-zone-gccops/user-added/uploaded_objects/96ae6494-b057-49b7-9b3c-66aa894ed3e7/N00E010_ESACCI-BIOMASS-L4-AGB-MERGED-100m-2020-fv3.0-masked-cog.tif',\n",
       "  's3://maap-landing-zone-gccops/user-added/uploaded_objects/96ae6494-b057-49b7-9b3c-66aa894ed3e7/N10E020_ESACCI-BIOMASS-L4-AGB-MERGED-100m-2020-fv3.0-masked-cog.tif',\n",
       "  's3://maap-landing-zone-gccops/user-added/uploaded_objects/96ae6494-b057-49b7-9b3c-66aa894ed3e7/N10E010_ESACCI-BIOMASS-L4-AGB-MERGED-100m-2020-fv3.0-masked-cog.tif',\n",
       "  's3://maap-landing-zone-gccops/user-added/uploaded_objects/96ae6494-b057-49b7-9b3c-66aa894ed3e7/N20E020_ESACCI-BIOMASS-L4-AGB-MERGED-100m-2020-fv3.0-masked-cog.tif',\n",
       "  's3://maap-landing-zone-gccops/user-added/uploaded_objects/96ae6494-b057-49b7-9b3c-66aa894ed3e7/N20E010_ESACCI-BIOMASS-L4-AGB-MERGED-100m-2020-fv3.0-masked-cog.tif',\n",
       "  's3://maap-landing-zone-gccops/user-added/uploaded_objects/96ae6494-b057-49b7-9b3c-66aa894ed3e7/N00E020_ESACCI-BIOMASS-L4-AGB-MERGED-100m-2020-fv3.0-masked-cog.tif'],\n",
       " '13.270075,6.318028,15.46769,8.496821')"
      ]
     },
     "execution_count": 13,
     "metadata": {},
     "output_type": "execute_result"
    }
   ],
   "source": [
    "assets, str_bounds"
   ]
  },
  {
   "cell_type": "code",
   "execution_count": 14,
   "id": "4f436c2f-7f11-4662-80ce-3a1019262b76",
   "metadata": {},
   "outputs": [
    {
     "name": "stdout",
     "output_type": "stream",
     "text": [
      "CPU times: user 681 ms, sys: 20.2 ms, total: 702 ms\n",
      "Wall time: 4.28 s\n"
     ]
    }
   ],
   "source": [
    "%%time\n",
    "ds1 = m.gen_mosaic_dataset_crop(assets, str_bounds)"
   ]
  },
  {
   "cell_type": "code",
   "execution_count": 15,
   "id": "75f97024-5f10-44e6-ba66-dfd6c9c80636",
   "metadata": {},
   "outputs": [
    {
     "name": "stdout",
     "output_type": "stream",
     "text": [
      "CPU times: user 509 ms, sys: 65.5 ms, total: 575 ms\n",
      "Wall time: 1.62 s\n"
     ]
    }
   ],
   "source": [
    "%%time\n",
    "ds2 = m.gen_mosaic_dataset_reader(assets, bounds)"
   ]
  },
  {
   "cell_type": "code",
   "execution_count": 20,
   "id": "aaf398e3-abc3-489d-90f2-1cc2bae13782",
   "metadata": {},
   "outputs": [
    {
     "data": {
      "text/plain": [
       "(array([114150., 129028., 121784.,  67525.,  40738.,  28864.,  13021.,\n",
       "          3614.,   1209.,    259.]),\n",
       " array([  0. ,  19.5,  39. ,  58.5,  78. ,  97.5, 117. , 136.5, 156. ,\n",
       "        175.5, 195. ]),\n",
       " <BarContainer object of 10 artists>)"
      ]
     },
     "execution_count": 20,
     "metadata": {},
     "output_type": "execute_result"
    },
    {
     "data": {
      "image/png": "[encoded data removed]",
      "text/plain": [
       "<Figure size 640x480 with 1 Axes>"
      ]
     },
     "metadata": {},
     "output_type": "display_data"
    }
   ],
   "source": [
    "ds1.plot()"
   ]
  },
  {
   "cell_type": "code",
   "execution_count": 21,
   "id": "d390da60-42d1-4002-a2d5-3df09501cac9",
   "metadata": {},
   "outputs": [
    {
     "data": {
      "text/plain": [
       "(array([114266., 129127., 121928.,  67460.,  38767.,  30654.,  12652.,\n",
       "          3867.,   1173.,    298.]),\n",
       " array([  0. ,  19.4,  38.8,  58.2,  77.6,  97. , 116.4, 135.8, 155.2,\n",
       "        174.6, 194. ]),\n",
       " <BarContainer object of 10 artists>)"
      ]
     },
     "execution_count": 21,
     "metadata": {},
     "output_type": "execute_result"
    },
    {
     "data": {
      "image/png": "[encoded data removed]",
      "text/plain": [
       "<Figure size 640x480 with 1 Axes>"
      ]
     },
     "metadata": {},
     "output_type": "display_data"
    }
   ],
   "source": [
    "ds2.plot()"
   ]
  }
 ],
 "metadata": {
  "kernelspec": {
   "display_name": "stac_ipyleaflet",
   "language": "python",
   "name": "stac_ipyleaflet"
  },
  "language_info": {
   "codemirror_mode": {
    "name": "ipython",
    "version": 3
   },
   "file_extension": ".py",
   "mimetype": "text/x-python",
   "name": "python",
   "nbconvert_exporter": "python",
   "pygments_lexer": "ipython3",
   "version": "3.9.15"
  }
 },
 "nbformat": 4,
 "nbformat_minor": 5
}
