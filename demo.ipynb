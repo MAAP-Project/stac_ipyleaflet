{
 "cells": [
  {
   "cell_type": "code",
   "execution_count": 3,
   "id": "4f7d5321-d82b-4ed4-8136-832f932b30b5",
   "metadata": {},
   "outputs": [],
   "source": [
    "import stac_ipyleaflet"
   ]
  },
  {
   "cell_type": "markdown",
   "id": "9648b56f-dbf3-4aac-af19-643067596220",
   "metadata": {},
   "source": [
    "# Use ipyleaflet to visually explore MAAP data\n",
    "\n",
    "Inspired by leafmap."
   ]
  },
  {
   "cell_type": "code",
   "execution_count": 4,
   "id": "8e4a59f2-1aa6-4b82-86e5-90d0c3c7ffe2",
   "metadata": {},
   "outputs": [
    {
     "data": {
      "application/vnd.jupyter.widget-view+json": {
       "model_id": "04472ca9602642218758b7618bddc008",
       "version_major": 2,
       "version_minor": 0
      },
      "text/plain": [
       "StacIpyleaflet(center=[20, 0], controls=(ZoomControl(options=['position', 'zoom_in_text', 'zoom_in_title', 'zo…"
      ]
     },
     "metadata": {},
     "output_type": "display_data"
    }
   ],
   "source": [
    "import ipywidgets\n",
    "m = stac_ipyleaflet.StacIpyleaflet(zoom=4, layout=ipywidgets.Layout(height=\"800px\"))\n",
    "m.draw_biomass_map()\n",
    "m"
   ]
  },
  {
   "cell_type": "code",
   "execution_count": null,
   "id": "a6b9c37b-58d9-4d17-8891-8eed125eb996",
   "metadata": {},
   "outputs": [],
   "source": []
  }
 ],
 "metadata": {
  "kernelspec": {
   "display_name": "stac_ipyleaflet",
   "language": "python",
   "name": "stac_ipyleaflet"
  },
  "language_info": {
   "codemirror_mode": {
    "name": "ipython",
    "version": 3
   },
   "file_extension": ".py",
   "mimetype": "text/x-python",
   "name": "python",
   "nbconvert_exporter": "python",
   "pygments_lexer": "ipython3",
   "version": "3.9.15"
  }
 },
 "nbformat": 4,
 "nbformat_minor": 5
}
