{
 "cells": [
  {
   "cell_type": "markdown",
   "id": "9648b56f-dbf3-4aac-af19-643067596220",
   "metadata": {
    "tags": []
   },
   "source": [
    "# Use stac_ipyleaflet to visually explore MAAP data\n",
    "\n",
    "Inspired by Leafmap."
   ]
  },
  {
   "cell_type": "code",
   "execution_count": 1,
   "id": "4f7d5321-d82b-4ed4-8136-832f932b30b5",
   "metadata": {
    "tags": []
   },
   "outputs": [
    {
     "data": {
      "application/vnd.jupyter.widget-view+json": {
       "model_id": "0ae62e54281a413b803fbc68d7586db9",
       "version_major": 2,
       "version_minor": 0
      },
      "text/plain": [
       "HBox(children=(ToggleButton(value=False, description='Layers', icon='map-o', layout=Layout(border_bottom='1px …"
      ]
     },
     "metadata": {},
     "output_type": "display_data"
    },
    {
     "data": {
      "application/vnd.jupyter.widget-view+json": {
       "model_id": "0569db39a13e4537ae9a9fcb54bbc4d3",
       "version_major": 2,
       "version_minor": 0
      },
      "text/plain": [
       "Output()"
      ]
     },
     "metadata": {},
     "output_type": "display_data"
    },
    {
     "data": {
      "application/vnd.jupyter.widget-view+json": {
       "model_id": "dac4b1b8adf64797bfcaed5ea656681c",
       "version_major": 2,
       "version_minor": 0
      },
      "text/plain": [
       "Output()"
      ]
     },
     "metadata": {},
     "output_type": "display_data"
    },
    {
     "name": "stdout",
     "output_type": "stream",
     "text": [
      "\n"
     ]
    },
    {
     "data": {
      "application/vnd.jupyter.widget-view+json": {
       "model_id": "621a6dd9981447549f594804e94cac6f",
       "version_major": 2,
       "version_minor": 0
      },
      "text/plain": [
       "StacIpyleaflet(center=[20, 0], controls=(ZoomControl(options=['position', 'zoom_in_text', 'zoom_in_title', 'zo…"
      ]
     },
     "execution_count": 1,
     "metadata": {},
     "output_type": "execute_result"
    }
   ],
   "source": [
    "import stac_ipyleaflet\n",
    "# from ipywidgets import Layout\n",
    "m = stac_ipyleaflet.StacIpyleaflet()\n",
    "m"
   ]
  },
  {
   "cell_type": "code",
   "execution_count": null,
   "id": "fe316fd3-6de6-4df8-b284-49ecc19fcd15",
   "metadata": {},
   "outputs": [],
   "source": []
  }
 ],
 "metadata": {
  "kernelspec": {
   "display_name": "Python 3 (ipykernel)",
   "language": "python",
   "name": "python3"
  },
  "language_info": {
   "codemirror_mode": {
    "name": "ipython",
    "version": 3
   },
   "file_extension": ".py",
   "mimetype": "text/x-python",
   "name": "python",
   "nbconvert_exporter": "python",
   "pygments_lexer": "ipython3",
   "version": "3.10.10"
  }
 },
 "nbformat": 4,
 "nbformat_minor": 5
}
