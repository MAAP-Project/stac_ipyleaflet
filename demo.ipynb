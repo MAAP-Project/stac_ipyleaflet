{
 "cells": [
  {
   "cell_type": "code",
   "execution_count": 1,
   "id": "4f7d5321-d82b-4ed4-8136-832f932b30b5",
   "metadata": {},
   "outputs": [
    {
     "data": {
      "text/plain": [
       "<module 'stac_ipyleaflet' from '/Users/aimeebarciauskas/github/maap-project/stac_ipyleaflet/stac_ipyleaflet/__init__.py'>"
      ]
     },
     "execution_count": 1,
     "metadata": {},
     "output_type": "execute_result"
    }
   ],
   "source": [
    "%matplotlib inline\n",
    "import stac_ipyleaflet\n",
    "import importlib\n",
    "importlib.reload(stac_ipyleaflet)"
   ]
  },
  {
   "cell_type": "markdown",
   "id": "9648b56f-dbf3-4aac-af19-643067596220",
   "metadata": {},
   "source": [
    "# Use ipyleaflet to visually explore MAAP data\n",
    "\n",
    "Inspired by leafmap."
   ]
  },
  {
   "cell_type": "code",
   "execution_count": 2,
   "id": "8e4a59f2-1aa6-4b82-86e5-90d0c3c7ffe2",
   "metadata": {},
   "outputs": [
    {
     "data": {
      "application/vnd.jupyter.widget-view+json": {
       "model_id": "0290b5f35b5c4f6883a23e24dbb2339d",
       "version_major": 2,
       "version_minor": 0
      },
      "text/plain": [
       "StacIpyleaflet(center=[20, 0], controls=(ZoomControl(options=['position', 'zoom_in_text', 'zoom_in_title', 'zo…"
      ]
     },
     "execution_count": 2,
     "metadata": {},
     "output_type": "execute_result"
    }
   ],
   "source": [
    "import ipywidgets\n",
    "m = stac_ipyleaflet.StacIpyleaflet(zoom=4, layout=ipywidgets.Layout(height=\"800px\"))\n",
    "m.draw_biomass_map()\n",
    "m"
   ]
  },
  {
   "cell_type": "code",
   "execution_count": 29,
   "id": "0fe3da3d-63c8-4de5-a40b-34ce0625962d",
   "metadata": {},
   "outputs": [],
   "source": [
    "import ipyleaflet\n",
    "visible_layers = [layer for layer in m.layers if type(layer) == ipyleaflet.TileLayer and layer.visible and not layer.base]"
   ]
  },
  {
   "cell_type": "code",
   "execution_count": 30,
   "id": "f0560ff8-39a1-439b-ab28-364bc025ce26",
   "metadata": {},
   "outputs": [],
   "source": [
    "layer_url = visible_layers[0].url"
   ]
  },
  {
   "cell_type": "code",
   "execution_count": 31,
   "id": "2909bf72-058d-4d5b-9bce-f220093038f6",
   "metadata": {},
   "outputs": [
    {
     "data": {
      "text/plain": [
       "'https://titiler.maap-project.org/mosaicjson/mosaics/f0e6f941-4e50-46b3-9463-11b3c2181662/tiles/{z}/{x}/{y}?bidx=1&max_size=1024&resampling_method=nearest&rescale=0,400&return_mask=true&colormap_name=gist_earth_r'"
      ]
     },
     "execution_count": 31,
     "metadata": {},
     "output_type": "execute_result"
    }
   ],
   "source": [
    "layer_url"
   ]
  },
  {
   "cell_type": "code",
   "execution_count": 32,
   "id": "606cedb8-8fec-44c4-b581-4a942476b6cd",
   "metadata": {},
   "outputs": [],
   "source": [
    "import re\n",
    "match = re.search('(https://.+)/tiles', layer_url)"
   ]
  },
  {
   "cell_type": "code",
   "execution_count": 33,
   "id": "82679b4b-dc3e-47c8-94a4-86238c921fc5",
   "metadata": {},
   "outputs": [
    {
     "data": {
      "text/plain": [
       "'https://titiler.maap-project.org/mosaicjson/mosaics/f0e6f941-4e50-46b3-9463-11b3c2181662'"
      ]
     },
     "execution_count": 33,
     "metadata": {},
     "output_type": "execute_result"
    }
   ],
   "source": [
    "mosaic_url = match.groups()[0]\n",
    "mosaic_url"
   ]
  },
  {
   "cell_type": "code",
   "execution_count": 34,
   "id": "441c60e1-5fab-4a54-9c38-48ddb4cda17c",
   "metadata": {},
   "outputs": [],
   "source": [
    "from shapely.geometry import Polygon\n",
    "geometries = [m.draw_control.last_draw['geometry']]\n",
    "if geometries[0]:\n",
    "    box = Polygon(geometries[0]['coordinates'][0])\n",
    "    bounds = box.bounds\n",
    "str_bounds = f\"{bounds[0]},{bounds[1]},{bounds[2]},{bounds[3]}\""
   ]
  },
  {
   "cell_type": "code",
   "execution_count": 35,
   "id": "1319263f-038e-4c69-bc80-079d3c0c834a",
   "metadata": {},
   "outputs": [],
   "source": [
    "assets_endpoint = f\"{m.titiler_url}/mosaicjson/{str_bounds}/assets?url={mosaic_url}/mosaicjson\""
   ]
  },
  {
   "cell_type": "code",
   "execution_count": 36,
   "id": "9984bb12-6ce5-4253-b41b-1121394fa40b",
   "metadata": {},
   "outputs": [],
   "source": [
    "import requests\n",
    "assets_response = requests.get(assets_endpoint)\n",
    "assets = assets_response.json()"
   ]
  },
  {
   "cell_type": "code",
   "execution_count": 37,
   "id": "f0eefaa3-0295-40f6-bcc0-b424045beb17",
   "metadata": {},
   "outputs": [
    {
     "data": {
      "text/plain": [
       "(['s3://maap-landing-zone-gccops/user-added/uploaded_objects/e1a75192-4c17-4176-ab63-2010c368df13/global_008_06dc_agb_mean_prediction_2020_mosaic_veg_gfccorr_scale1_Europe_cog.tif',\n",
       "  's3://maap-landing-zone-gccops/user-added/uploaded_objects/e1a75192-4c17-4176-ab63-2010c368df13/global_008_06dc_agb_mean_prediction_2020_mosaic_veg_gfccorr_scale1_Asia_cog.tif',\n",
       "  's3://maap-landing-zone-gccops/user-added/uploaded_objects/e1a75192-4c17-4176-ab63-2010c368df13/global_008_06dc_agb_mean_prediction_2020_mosaic_veg_gfccorr_scale1_Oceania_cog.tif',\n",
       "  's3://maap-landing-zone-gccops/user-added/uploaded_objects/e1a75192-4c17-4176-ab63-2010c368df13/global_008_06dc_agb_mean_prediction_2020_mosaic_veg_gfccorr_scale1_Africa_cog.tif'],\n",
       " '11.918673,3.187137,14.554946,5.728044')"
      ]
     },
     "execution_count": 37,
     "metadata": {},
     "output_type": "execute_result"
    }
   ],
   "source": [
    "assets, str_bounds"
   ]
  },
  {
   "cell_type": "code",
   "execution_count": 45,
   "id": "c7661bcd-1171-4cc1-a005-aeec73c1a431",
   "metadata": {},
   "outputs": [],
   "source": [
    "datasets = []\n",
    "import numpy\n",
    "from io import BytesIO\n",
    "import xarray as xr\n",
    "for asset in assets:\n",
    "    crop_endpoint = f\"{m.titiler_url}/cog/crop/{str_bounds}.npy?url={asset}&max_size=512\"  # Same here you can either use max_size or width&height\n",
    "    res = requests.get(crop_endpoint)\n",
    "    arr = numpy.load(BytesIO(res.content))\n",
    "    tile, mask = arr[0:-1], arr[-1]\n",
    "\n",
    "    # TODO:\n",
    "    # convert tile/mask to xarray dataset\n",
    "    ds = xr.DataArray(tile)\n",
    "    datasets.append(ds)"
   ]
  },
  {
   "cell_type": "code",
   "execution_count": 48,
   "id": "9431cb52-1fb5-4902-b64a-e5247f82141e",
   "metadata": {},
   "outputs": [
    {
     "data": {
      "text/plain": [
       "[<xarray.DataArray (dim_0: 1, dim_1: 494, dim_2: 512)>\n",
       " array([[[-32768, -32768, -32768, ..., -32768, -32768, -32768],\n",
       "         [-32768, -32768, -32768, ..., -32768, -32768, -32768],\n",
       "         [-32768, -32768, -32768, ..., -32768, -32768, -32768],\n",
       "         ...,\n",
       "         [-32768, -32768, -32768, ..., -32768, -32768, -32768],\n",
       "         [-32768, -32768, -32768, ..., -32768, -32768, -32768],\n",
       "         [-32768, -32768, -32768, ..., -32768, -32768, -32768]]],\n",
       "       dtype=int16)\n",
       " Dimensions without coordinates: dim_0, dim_1, dim_2,\n",
       " <xarray.DataArray (dim_0: 1, dim_1: 494, dim_2: 512)>\n",
       " array([[[-32768, -32768, -32768, ..., -32768, -32768, -32768],\n",
       "         [-32768, -32768, -32768, ..., -32768, -32768, -32768],\n",
       "         [-32768, -32768, -32768, ..., -32768, -32768, -32768],\n",
       "         ...,\n",
       "         [-32768, -32768, -32768, ..., -32768, -32768, -32768],\n",
       "         [-32768, -32768, -32768, ..., -32768, -32768, -32768],\n",
       "         [-32768, -32768, -32768, ..., -32768, -32768, -32768]]],\n",
       "       dtype=int16)\n",
       " Dimensions without coordinates: dim_0, dim_1, dim_2,\n",
       " <xarray.DataArray (dim_0: 1, dim_1: 494, dim_2: 512)>\n",
       " array([[[-32768, -32768, -32768, ..., -32768, -32768, -32768],\n",
       "         [-32768, -32768, -32768, ..., -32768, -32768, -32768],\n",
       "         [-32768, -32768, -32768, ..., -32768, -32768, -32768],\n",
       "         ...,\n",
       "         [-32768, -32768, -32768, ..., -32768, -32768, -32768],\n",
       "         [-32768, -32768, -32768, ..., -32768, -32768, -32768],\n",
       "         [-32768, -32768, -32768, ..., -32768, -32768, -32768]]],\n",
       "       dtype=int16)\n",
       " Dimensions without coordinates: dim_0, dim_1, dim_2,\n",
       " <xarray.DataArray (dim_0: 1, dim_1: 494, dim_2: 512)>\n",
       " array([[[ 65,  77,  69, ..., 142, 179,  82],\n",
       "         [ 32,  85,  55, ...,  81, 118, 187],\n",
       "         [ 45, 122,  38, ...,  46, 135, 118],\n",
       "         ...,\n",
       "         [268, 153, 118, ..., 401, 409, 407],\n",
       "         [256, 158, 193, ..., 424, 409, 414],\n",
       "         [225, 221, 215, ..., 411, 388, 401]]], dtype=int16)\n",
       " Dimensions without coordinates: dim_0, dim_1, dim_2]"
      ]
     },
     "execution_count": 48,
     "metadata": {},
     "output_type": "execute_result"
    }
   ],
   "source": [
    "datasets"
   ]
  },
  {
   "cell_type": "code",
   "execution_count": 38,
   "id": "4f436c2f-7f11-4662-80ce-3a1019262b76",
   "metadata": {},
   "outputs": [
    {
     "ename": "ValueError",
     "evalue": "Could not find any dimension coordinates to use to order the datasets for concatenation",
     "output_type": "error",
     "traceback": [
      "\u001b[0;31m---------------------------------------------------------------------------\u001b[0m",
      "\u001b[0;31mValueError\u001b[0m                                Traceback (most recent call last)",
      "File \u001b[0;32m<timed exec>:1\u001b[0m\n",
      "File \u001b[0;32m~/github/maap-project/stac_ipyleaflet/stac_ipyleaflet/core.py:149\u001b[0m, in \u001b[0;36mStacIpyleaflet.gen_mosaic_dataset_crop\u001b[0;34m(self, assets, str_bounds)\u001b[0m\n\u001b[1;32m    146\u001b[0m     \u001b[38;5;28;01mexcept\u001b[39;00m:\n\u001b[1;32m    147\u001b[0m         \u001b[38;5;28;01mpass\u001b[39;00m\n\u001b[0;32m--> 149\u001b[0m ds \u001b[38;5;241m=\u001b[39m \u001b[43mxr\u001b[49m\u001b[38;5;241;43m.\u001b[39;49m\u001b[43mcombine_by_coords\u001b[49m\u001b[43m(\u001b[49m\u001b[43mdatasets\u001b[49m\u001b[43m)\u001b[49m\n",
      "File \u001b[0;32m~/miniconda3/envs/stac_ipyleaflet/lib/python3.9/site-packages/xarray/core/combine.py:951\u001b[0m, in \u001b[0;36mcombine_by_coords\u001b[0;34m(data_objects, compat, data_vars, coords, fill_value, join, combine_attrs, datasets)\u001b[0m\n\u001b[1;32m    944\u001b[0m \u001b[38;5;28;01mif\u001b[39;00m \u001b[38;5;28mall\u001b[39m(objs_are_unnamed_dataarrays):\n\u001b[1;32m    945\u001b[0m     \u001b[38;5;66;03m# Combine into a single larger DataArray\u001b[39;00m\n\u001b[1;32m    946\u001b[0m     temp_datasets \u001b[38;5;241m=\u001b[39m [\n\u001b[1;32m    947\u001b[0m         unnamed_dataarray\u001b[38;5;241m.\u001b[39m_to_temp_dataset()\n\u001b[1;32m    948\u001b[0m         \u001b[38;5;28;01mfor\u001b[39;00m unnamed_dataarray \u001b[38;5;129;01min\u001b[39;00m data_objects\n\u001b[1;32m    949\u001b[0m     ]\n\u001b[0;32m--> 951\u001b[0m     combined_temp_dataset \u001b[38;5;241m=\u001b[39m \u001b[43m_combine_single_variable_hypercube\u001b[49m\u001b[43m(\u001b[49m\n\u001b[1;32m    952\u001b[0m \u001b[43m        \u001b[49m\u001b[43mtemp_datasets\u001b[49m\u001b[43m,\u001b[49m\n\u001b[1;32m    953\u001b[0m \u001b[43m        \u001b[49m\u001b[43mfill_value\u001b[49m\u001b[38;5;241;43m=\u001b[39;49m\u001b[43mfill_value\u001b[49m\u001b[43m,\u001b[49m\n\u001b[1;32m    954\u001b[0m \u001b[43m        \u001b[49m\u001b[43mdata_vars\u001b[49m\u001b[38;5;241;43m=\u001b[39;49m\u001b[43mdata_vars\u001b[49m\u001b[43m,\u001b[49m\n\u001b[1;32m    955\u001b[0m \u001b[43m        \u001b[49m\u001b[43mcoords\u001b[49m\u001b[38;5;241;43m=\u001b[39;49m\u001b[43mcoords\u001b[49m\u001b[43m,\u001b[49m\n\u001b[1;32m    956\u001b[0m \u001b[43m        \u001b[49m\u001b[43mcompat\u001b[49m\u001b[38;5;241;43m=\u001b[39;49m\u001b[43mcompat\u001b[49m\u001b[43m,\u001b[49m\n\u001b[1;32m    957\u001b[0m \u001b[43m        \u001b[49m\u001b[43mjoin\u001b[49m\u001b[38;5;241;43m=\u001b[39;49m\u001b[43mjoin\u001b[49m\u001b[43m,\u001b[49m\n\u001b[1;32m    958\u001b[0m \u001b[43m        \u001b[49m\u001b[43mcombine_attrs\u001b[49m\u001b[38;5;241;43m=\u001b[39;49m\u001b[43mcombine_attrs\u001b[49m\u001b[43m,\u001b[49m\n\u001b[1;32m    959\u001b[0m \u001b[43m    \u001b[49m\u001b[43m)\u001b[49m\n\u001b[1;32m    960\u001b[0m     \u001b[38;5;28;01mreturn\u001b[39;00m DataArray()\u001b[38;5;241m.\u001b[39m_from_temp_dataset(combined_temp_dataset)\n\u001b[1;32m    961\u001b[0m \u001b[38;5;28;01melse\u001b[39;00m:\n\u001b[1;32m    962\u001b[0m     \u001b[38;5;66;03m# Must be a mix of unnamed dataarrays with either named dataarrays or with datasets\u001b[39;00m\n\u001b[1;32m    963\u001b[0m     \u001b[38;5;66;03m# Can't combine these as we wouldn't know whether to merge or concatenate the arrays\u001b[39;00m\n",
      "File \u001b[0;32m~/miniconda3/envs/stac_ipyleaflet/lib/python3.9/site-packages/xarray/core/combine.py:629\u001b[0m, in \u001b[0;36m_combine_single_variable_hypercube\u001b[0;34m(datasets, fill_value, data_vars, coords, compat, join, combine_attrs)\u001b[0m\n\u001b[1;32m    623\u001b[0m \u001b[38;5;28;01mif\u001b[39;00m \u001b[38;5;28mlen\u001b[39m(datasets) \u001b[38;5;241m==\u001b[39m \u001b[38;5;241m0\u001b[39m:\n\u001b[1;32m    624\u001b[0m     \u001b[38;5;28;01mraise\u001b[39;00m \u001b[38;5;167;01mValueError\u001b[39;00m(\n\u001b[1;32m    625\u001b[0m         \u001b[38;5;124m\"\u001b[39m\u001b[38;5;124mAt least one Dataset is required to resolve variable names \u001b[39m\u001b[38;5;124m\"\u001b[39m\n\u001b[1;32m    626\u001b[0m         \u001b[38;5;124m\"\u001b[39m\u001b[38;5;124mfor combined hypercube.\u001b[39m\u001b[38;5;124m\"\u001b[39m\n\u001b[1;32m    627\u001b[0m     )\n\u001b[0;32m--> 629\u001b[0m combined_ids, concat_dims \u001b[38;5;241m=\u001b[39m \u001b[43m_infer_concat_order_from_coords\u001b[49m\u001b[43m(\u001b[49m\u001b[38;5;28;43mlist\u001b[39;49m\u001b[43m(\u001b[49m\u001b[43mdatasets\u001b[49m\u001b[43m)\u001b[49m\u001b[43m)\u001b[49m\n\u001b[1;32m    631\u001b[0m \u001b[38;5;28;01mif\u001b[39;00m fill_value \u001b[38;5;129;01mis\u001b[39;00m \u001b[38;5;28;01mNone\u001b[39;00m:\n\u001b[1;32m    632\u001b[0m     \u001b[38;5;66;03m# check that datasets form complete hypercube\u001b[39;00m\n\u001b[1;32m    633\u001b[0m     _check_shape_tile_ids(combined_ids)\n",
      "File \u001b[0;32m~/miniconda3/envs/stac_ipyleaflet/lib/python3.9/site-packages/xarray/core/combine.py:149\u001b[0m, in \u001b[0;36m_infer_concat_order_from_coords\u001b[0;34m(datasets)\u001b[0m\n\u001b[1;32m    144\u001b[0m             tile_ids \u001b[38;5;241m=\u001b[39m [\n\u001b[1;32m    145\u001b[0m                 tile_id \u001b[38;5;241m+\u001b[39m (position,) \u001b[38;5;28;01mfor\u001b[39;00m tile_id, position \u001b[38;5;129;01min\u001b[39;00m \u001b[38;5;28mzip\u001b[39m(tile_ids, order)\n\u001b[1;32m    146\u001b[0m             ]\n\u001b[1;32m    148\u001b[0m \u001b[38;5;28;01mif\u001b[39;00m \u001b[38;5;28mlen\u001b[39m(datasets) \u001b[38;5;241m>\u001b[39m \u001b[38;5;241m1\u001b[39m \u001b[38;5;129;01mand\u001b[39;00m \u001b[38;5;129;01mnot\u001b[39;00m concat_dims:\n\u001b[0;32m--> 149\u001b[0m     \u001b[38;5;28;01mraise\u001b[39;00m \u001b[38;5;167;01mValueError\u001b[39;00m(\n\u001b[1;32m    150\u001b[0m         \u001b[38;5;124m\"\u001b[39m\u001b[38;5;124mCould not find any dimension coordinates to use to \u001b[39m\u001b[38;5;124m\"\u001b[39m\n\u001b[1;32m    151\u001b[0m         \u001b[38;5;124m\"\u001b[39m\u001b[38;5;124morder the datasets for concatenation\u001b[39m\u001b[38;5;124m\"\u001b[39m\n\u001b[1;32m    152\u001b[0m     )\n\u001b[1;32m    154\u001b[0m combined_ids \u001b[38;5;241m=\u001b[39m \u001b[38;5;28mdict\u001b[39m(\u001b[38;5;28mzip\u001b[39m(tile_ids, datasets))\n\u001b[1;32m    156\u001b[0m \u001b[38;5;28;01mreturn\u001b[39;00m combined_ids, concat_dims\n",
      "\u001b[0;31mValueError\u001b[0m: Could not find any dimension coordinates to use to order the datasets for concatenation"
     ]
    }
   ],
   "source": [
    "%%time\n",
    "ds1 = m.gen_mosaic_dataset_crop(assets, str_bounds)"
   ]
  },
  {
   "cell_type": "code",
   "execution_count": 40,
   "id": "75f97024-5f10-44e6-ba66-dfd6c9c80636",
   "metadata": {},
   "outputs": [
    {
     "name": "stdout",
     "output_type": "stream",
     "text": [
      "CPU times: user 280 ms, sys: 32.7 ms, total: 313 ms\n",
      "Wall time: 1.01 s\n"
     ]
    }
   ],
   "source": [
    "%%time\n",
    "ds2 = m.gen_mosaic_dataset_reader(assets, bounds)"
   ]
  },
  {
   "cell_type": "code",
   "execution_count": null,
   "id": "cd879ef6-110d-448a-b0fc-d43c7220bd43",
   "metadata": {},
   "outputs": [],
   "source": []
  }
 ],
 "metadata": {
  "kernelspec": {
   "display_name": "stac_ipyleaflet",
   "language": "python",
   "name": "stac_ipyleaflet"
  },
  "language_info": {
   "codemirror_mode": {
    "name": "ipython",
    "version": 3
   },
   "file_extension": ".py",
   "mimetype": "text/x-python",
   "name": "python",
   "nbconvert_exporter": "python",
   "pygments_lexer": "ipython3",
   "version": "3.9.15"
  }
 },
 "nbformat": 4,
 "nbformat_minor": 5
}
