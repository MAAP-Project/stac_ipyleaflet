{
 "cells": [
  {
   "cell_type": "code",
   "execution_count": 1,
   "id": "29f10874-05b0-4c01-9134-309f08d095c8",
   "metadata": {
    "tags": []
   },
   "outputs": [],
   "source": [
    "import json\n",
    "from pathlib import Path"
   ]
  },
  {
   "cell_type": "markdown",
   "id": "fba9d92f-7f9c-4e83-845e-2420f67ba1ff",
   "metadata": {
    "tags": []
   },
   "source": [
    "### Right-click on the file and select option to Copy Path"
   ]
  },
  {
   "cell_type": "code",
   "execution_count": 2,
   "id": "7027f167-ffbb-4617-a8a0-a9e21a1c53fa",
   "metadata": {
    "tags": []
   },
   "outputs": [
    {
     "name": "stdin",
     "output_type": "stream",
     "text": [
      "Path to file in bucket: local-data/map.geojson\n"
     ]
    }
   ],
   "source": [
    "path = input(\"Path to file in bucket:\")"
   ]
  },
  {
   "cell_type": "code",
   "execution_count": 3,
   "id": "dd28c59a-2971-4bd2-9202-1bf0cf593597",
   "metadata": {
    "tags": []
   },
   "outputs": [],
   "source": [
    "home = Path.home()\n",
    "f_path = f'{home}/{path}'"
   ]
  },
  {
   "cell_type": "code",
   "execution_count": 4,
   "id": "19530b2d-6b5d-4493-a218-7f1e65121e35",
   "metadata": {
    "tags": []
   },
   "outputs": [
    {
     "name": "stdout",
     "output_type": "stream",
     "text": [
      "FILE EXISTS AND IS COMPATIBLE\n"
     ]
    }
   ],
   "source": [
    "try:\n",
    "    if not Path(f_path).exists:\n",
    "        print('FILE DOES NOT EXIST!')\n",
    "    else:\n",
    "        if Path(f_path).suffix == \".geojson\":\n",
    "            print('FILE EXISTS AND IS COMPATIBLE')\n",
    "        else:\n",
    "            print('FILE EXISTS BUT IS INCOMPATIBLE')\n",
    "except CRSError:\n",
    "    print('error', OSError)"
   ]
  },
  {
   "cell_type": "markdown",
   "id": "53762e45-47ce-402c-9aaa-55a5c6199e00",
   "metadata": {
    "tags": []
   },
   "source": [
    "### If compatible, open file & create GeoJSON layer"
   ]
  },
  {
   "cell_type": "code",
   "execution_count": 5,
   "id": "7e93648b-f193-4bb5-8310-00c6b26581fd",
   "metadata": {},
   "outputs": [],
   "source": [
    "from ipyleaflet import GeoJSON\n",
    "\n",
    "with open(f_path, 'r') as f:\n",
    "    data = json.load(f)\n",
    "\n",
    "geojson = GeoJSON(\n",
    "    data=data,\n",
    "    style={\n",
    "        'opacity': 1, 'dashArray': '9', 'fillOpacity': 0.1, 'weight': 1\n",
    "    },\n",
    "    hover_style={\n",
    "        'color': 'white', 'dashArray': '0', 'fillOpacity': 0.5\n",
    "    },\n",
    ")\n",
    "# print(json.dumps(geojson.data, indent=4))"
   ]
  },
  {
   "cell_type": "markdown",
   "id": "a2c79234-ff56-41b1-8400-6a74a3eadb0b",
   "metadata": {
    "tags": []
   },
   "source": [
    "### Calculate bounds (data extent) from all features"
   ]
  },
  {
   "cell_type": "code",
   "execution_count": 6,
   "id": "90378a88-04f4-4d93-a4d8-7ccb44244709",
   "metadata": {
    "tags": []
   },
   "outputs": [],
   "source": [
    "xcoords = []\n",
    "ycoords = []\n",
    "for f in data['features']:\n",
    "    geom = f['geometry']\n",
    "    for coord in geom['coordinates']:\n",
    "        if type(coord) == float:  # then its a point feature\n",
    "            xcoords.append(geom['coordinates'][0])\n",
    "            ycoords.append(geom['coordinates'][1])\n",
    "        elif type(coord) == list:\n",
    "            for c in coord:\n",
    "                if type(c) == float:  # then its a linestring feature\n",
    "                    xcoords.append(coord[0])\n",
    "                    ycoords.append(coord[1])\n",
    "                elif type(c) == list:  # then its a polygon feature\n",
    "                    xcoords.append(c[0])\n",
    "                    ycoords.append(c[1])\n",
    "bounds = [\n",
    "    [min(ycoords), min(xcoords)],\n",
    "    [max(ycoords), max(xcoords)]\n",
    "]"
   ]
  },
  {
   "cell_type": "markdown",
   "id": "dafa7ebf-32e0-4724-8d06-86bbcf1ff46a",
   "metadata": {
    "tags": []
   },
   "source": [
    "### Add geojson to `stac_ipyleaflet` map"
   ]
  },
  {
   "cell_type": "code",
   "execution_count": 7,
   "id": "b2f6e35a-15ab-4beb-bcdb-8fb6357ec879",
   "metadata": {
    "tags": []
   },
   "outputs": [
    {
     "data": {
      "application/vnd.jupyter.widget-view+json": {
       "model_id": "74cf5cf758774ccba5bff1bc9c6eb3f5",
       "version_major": 2,
       "version_minor": 0
      },
      "text/plain": [
       "HBox(children=(ToggleButton(value=False, description='Draw', icon='square-o', layout=Layout(border_bottom='1px…"
      ]
     },
     "metadata": {},
     "output_type": "display_data"
    },
    {
     "data": {
      "application/vnd.jupyter.widget-view+json": {
       "model_id": "1fe1e87ada4b4af796ecbb9d3e2f769b",
       "version_major": 2,
       "version_minor": 0
      },
      "text/plain": [
       "Output()"
      ]
     },
     "metadata": {},
     "output_type": "display_data"
    },
    {
     "name": "stdout",
     "output_type": "stream",
     "text": [
      "\n"
     ]
    },
    {
     "data": {
      "application/vnd.jupyter.widget-view+json": {
       "model_id": "5455fc5b1d5f44f795120b9dbcf9a93e",
       "version_major": 2,
       "version_minor": 0
      },
      "text/plain": [
       "StacIpyleaflet(center=[20, 0], controls=(ZoomControl(options=['position', 'zoom_in_text', 'zoom_in_title', 'zo…"
      ]
     },
     "execution_count": 7,
     "metadata": {},
     "output_type": "execute_result"
    }
   ],
   "source": [
    "import stac_ipyleaflet\n",
    "\n",
    "m = stac_ipyleaflet.StacIpyleaflet()\n",
    "m.add_layer(geojson)\n",
    "m.fit_bounds(bounds)\n",
    "m"
   ]
  },
  {
   "cell_type": "code",
   "execution_count": null,
   "id": "ce50b0c2-b844-420d-9493-aa1409a4a23a",
   "metadata": {},
   "outputs": [],
   "source": []
  }
 ],
 "metadata": {
  "kernelspec": {
   "display_name": "Python 3 (ipykernel)",
   "language": "python",
   "name": "python3"
  },
  "language_info": {
   "codemirror_mode": {
    "name": "ipython",
    "version": 3
   },
   "file_extension": ".py",
   "mimetype": "text/x-python",
   "name": "python",
   "nbconvert_exporter": "python",
   "pygments_lexer": "ipython3",
   "version": "3.10.12"
  }
 },
 "nbformat": 4,
 "nbformat_minor": 5
}
