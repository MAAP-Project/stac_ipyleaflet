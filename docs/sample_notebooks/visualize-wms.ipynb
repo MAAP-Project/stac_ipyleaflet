{
 "cells": [
  {
   "cell_type": "code",
   "execution_count": 1,
   "id": "9ccad2ce-fe7f-49c6-ae88-e9c64776e1eb",
   "metadata": {
    "tags": []
   },
   "outputs": [],
   "source": [
    "### Create a simple WMS layer"
   ]
  },
  {
   "cell_type": "code",
   "execution_count": 2,
   "id": "d3d198cf-9943-4727-b05d-54ae40166bbb",
   "metadata": {
    "tags": []
   },
   "outputs": [],
   "source": [
    "from ipyleaflet import WMSLayer\n",
    "\n",
    "wms = WMSLayer(\n",
    "    url='http://mesonet.agron.iastate.edu/cgi-bin/wms/nexrad/n0r.cgi',\n",
    "    layers='nexrad-n0r-900913',\n",
    "    format='image/png',\n",
    "    transparent=True,\n",
    "    attribution='Weather data © 2012 IEM Nexrad'\n",
    ")"
   ]
  },
  {
   "cell_type": "code",
   "execution_count": 19,
   "id": "eb827652-d931-4c1f-a51f-1bb5c2915ece",
   "metadata": {
    "tags": []
   },
   "outputs": [
    {
     "ename": "ImportError",
     "evalue": "attempted relative import with no known parent package",
     "output_type": "error",
     "traceback": [
      "\u001b[0;31m---------------------------------------------------------------------------\u001b[0m",
      "\u001b[0;31mImportError\u001b[0m                               Traceback (most recent call last)",
      "Cell \u001b[0;32mIn[19], line 1\u001b[0m\n\u001b[0;32m----> 1\u001b[0m \u001b[38;5;28;01mfrom\u001b[39;00m \u001b[38;5;21;01m.\u001b[39;00m\u001b[38;5;21;01m.\u001b[39;00m \u001b[38;5;28;01mimport\u001b[39;00m stac_ipyleaflet\n\u001b[1;32m      3\u001b[0m m \u001b[38;5;241m=\u001b[39m stac_ipyleaflet\u001b[38;5;241m.\u001b[39mStacIpyleaflet()\n\u001b[1;32m      4\u001b[0m m\u001b[38;5;241m.\u001b[39madd_layer(wms)\n",
      "\u001b[0;31mImportError\u001b[0m: attempted relative import with no known parent package"
     ]
    }
   ],
   "source": [
    "import stac_ipyleaflet\n",
    "\n",
    "m = stac_ipyleaflet.StacIpyleaflet()\n",
    "m.add_layer(wms)\n",
    "m"
   ]
  },
  {
   "cell_type": "code",
   "execution_count": null,
   "id": "fb26a46a-a210-47dc-a658-d85d9bcfe294",
   "metadata": {},
   "outputs": [],
   "source": [
    "### Create a tiled layer using TiTiler WMTS Capabilities"
   ]
  },
  {
   "cell_type": "markdown",
   "id": "a285eb54",
   "metadata": {},
   "source": [
    "from ipyleaflet import WMSLayer\n"
   ]
  }
 ],
 "metadata": {
  "kernelspec": {
   "display_name": "Python 3 (ipykernel)",
   "language": "python",
   "name": "python3"
  },
  "language_info": {
   "codemirror_mode": {
    "name": "ipython",
    "version": 3
   },
   "file_extension": ".py",
   "mimetype": "text/x-python",
   "name": "python",
   "nbconvert_exporter": "python",
   "pygments_lexer": "ipython3",
   "version": "3.10.8"
  }
 },
 "nbformat": 4,
 "nbformat_minor": 5
}
