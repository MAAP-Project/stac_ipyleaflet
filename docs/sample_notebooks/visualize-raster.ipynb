{
 "cells": [
  {
   "cell_type": "code",
   "execution_count": 1,
   "metadata": {
    "tags": []
   },
   "outputs": [],
   "source": [
    "import boto3\n",
    "import httpx\n",
    "import json\n",
    "import os"
   ]
  },
  {
   "cell_type": "markdown",
   "metadata": {
    "tags": []
   },
   "source": [
    "### Set variables and helper functions"
   ]
  },
  {
   "cell_type": "code",
   "execution_count": 2,
   "metadata": {
    "tags": []
   },
   "outputs": [],
   "source": [
    "def checkFilePath(file_path):\n",
    "    result = s3.list_objects(Bucket=bucket, Prefix=file_path)\n",
    "    exists = True if 'Contents' in result else False\n",
    "    if exists:\n",
    "        print('PATH EXISTS')\n",
    "        return result['Contents']\n",
    "    return exists"
   ]
  },
  {
   "cell_type": "code",
   "execution_count": 3,
   "metadata": {
    "tags": []
   },
   "outputs": [],
   "source": [
    "user = os.getenv('CHE_WORKSPACE_NAMESPACE')\n",
    "titiler_url = \"https://titiler.maap-project.org\"  # MAAP titiler endpoint\n",
    "titiler_tilejson_url = f\"{titiler_url}/cog/tilejson.json\"\n",
    "bucket = \"maap-ops-workspace\"\n",
    "band_min = 0\n",
    "band_max = 50\n",
    "color_map = \"gist_earth_r\""
   ]
  },
  {
   "cell_type": "markdown",
   "metadata": {
    "jp-MarkdownHeadingCollapsed": true,
    "tags": []
   },
   "source": [
    "#### Option to query possible projections supported by titiler service"
   ]
  },
  {
   "cell_type": "code",
   "execution_count": 25,
   "metadata": {
    "tags": []
   },
   "outputs": [
    {
     "name": "stdout",
     "output_type": "stream",
     "text": [
      "Supported TMS:\n",
      "- CanadianNAD83_LCC\n",
      "- EuropeanETRS89_LAEAQuad\n",
      "- LINZAntarticaMapTilegrid\n",
      "- NZTM2000\n",
      "- NZTM2000Quad\n",
      "- UPSAntarcticWGS84Quad\n",
      "- UPSArcticWGS84Quad\n",
      "- UTM31WGS84Quad\n",
      "- WGS1984Quad\n",
      "- WebMercatorQuad\n",
      "- WorldCRS84Quad\n",
      "- WorldMercatorWGS84Quad\n"
     ]
    }
   ],
   "source": [
    "tileMatrixSets = httpx.get(f\"{titiler_url}/tileMatrixSets\").json()\n",
    "print(\"Supported TMS:\")\n",
    "for tms in tileMatrixSets[\"tileMatrixSets\"]:\n",
    "    print(\"-\", tms[\"id\"])"
   ]
  },
  {
   "cell_type": "markdown",
   "metadata": {},
   "source": [
    "### Right-click on the file and select option to Copy Path"
   ]
  },
  {
   "cell_type": "code",
   "execution_count": 4,
   "metadata": {
    "tags": []
   },
   "outputs": [
    {
     "name": "stdout",
     "output_type": "stream",
     "text": [
      "Path to raster in bucket: shared-buckets/alexdevseed/landsat8/viz/Copernicus_30439_covars_cog_topo_stack.tif\n"
     ]
    }
   ],
   "source": [
    "path = input(\"Path to raster in bucket:\")"
   ]
  },
  {
   "cell_type": "code",
   "execution_count": 5,
   "metadata": {
    "tags": []
   },
   "outputs": [
    {
     "name": "stdout",
     "output_type": "stream",
     "text": [
      "PATH EXISTS\n",
      "[{'Key': 'shared/alexdevseed/landsat8/viz/Copernicus_30439_covars_cog_topo_stack.tif', 'LastModified': datetime.datetime(2021, 7, 22, 22, 39, 57, tzinfo=tzutc()), 'ETag': '\"0dbc859db2e921cda2b2ef403fa41f97-3\"', 'Size': 20084240, 'StorageClass': 'STANDARD', 'Owner': {'DisplayName': 'MSFC-IMPACT-MAAP-Ops-root', 'ID': '801c37e81ec7d7b327915c96502ec5f346f48f2cdc819da9284110dbc39b64e7'}}, {'Key': 'shared/alexdevseed/landsat8/viz/Copernicus_30439_covars_cog_topo_stack.tif.aux.xml', 'LastModified': datetime.datetime(2023, 3, 4, 1, 31, 21, tzinfo=tzutc()), 'ETag': '\"8ca416537cb9d82de62177a3a65d3751\"', 'Size': 2052, 'StorageClass': 'STANDARD', 'Owner': {'DisplayName': 'MSFC-IMPACT-MAAP-Ops-root', 'ID': '801c37e81ec7d7b327915c96502ec5f346f48f2cdc819da9284110dbc39b64e7'}}]\n"
     ]
    }
   ],
   "source": [
    "s3 = boto3.client('s3')\n",
    "file_name = path.split('/', 1)[-1]\n",
    "if 'shared-buckets' in path:\n",
    "    file_path = f'shared/{file_name}'\n",
    "if 'my-private-bucket' in path:\n",
    "    file_path = f'{user}/{file_name}'\n",
    "if 'my-public-bucket' in path:\n",
    "    file_path = f'shared/{user}/{file_name}'\n",
    "print(checkFilePath(file_path))"
   ]
  },
  {
   "cell_type": "code",
   "execution_count": 6,
   "metadata": {
    "tags": []
   },
   "outputs": [],
   "source": [
    "url = f\"s3://maap-ops-workspace/{file_path}\""
   ]
  },
  {
   "cell_type": "markdown",
   "metadata": {},
   "source": [
    "#### If Path exists, continue..."
   ]
  },
  {
   "cell_type": "markdown",
   "metadata": {
    "tags": []
   },
   "source": [
    "### Open raster from url"
   ]
  },
  {
   "cell_type": "code",
   "execution_count": 11,
   "metadata": {
    "tags": []
   },
   "outputs": [],
   "source": [
    "import rioxarray as rxr\n",
    "\n",
    "raster = rxr.open_rasterio(url, masked=True)\n",
    "raster"
   ]
  },
  {
   "cell_type": "markdown",
   "metadata": {
    "tags": []
   },
   "source": [
    "#### Project to default map projection"
   ]
  },
  {
   "cell_type": "code",
   "execution_count": 13,
   "metadata": {
    "tags": []
   },
   "outputs": [
    {
     "name": "stdout",
     "output_type": "stream",
     "text": [
      "The CRS of this dataset is: EPSG:3857\n"
     ]
    }
   ],
   "source": [
    "crs = raster.rio.crs\n",
    "print(\"The CRS of this dataset is:\", crs)\n",
    "crs_number = crs.to_epsg()\n",
    "if crs_number != 3857:\n",
    "    raster = raster.rio.reproject(\"EPSG:3857\")\n",
    "    crs = raster.rio.crs\n",
    "    print(\"\\n\", \"The NEW CRS of this dataset is:\", crs)"
   ]
  },
  {
   "cell_type": "markdown",
   "metadata": {
    "tags": []
   },
   "source": [
    "#### Get raster info (bounds, zoom, data type)"
   ]
  },
  {
   "cell_type": "code",
   "execution_count": 15,
   "metadata": {
    "tags": []
   },
   "outputs": [
    {
     "name": "stdout",
     "output_type": "stream",
     "text": [
      "Bounds: [-163.51338693693168, 67.17121197506852, -162.6566451826878, 67.49580310072406]\n",
      "Zoom: 8\n",
      "Data type: float32\n",
      "Bands: [['b1', {}], ['b2', {}], ['b3', {}], ['b4', {}], ['b5', {}]]\n"
     ]
    }
   ],
   "source": [
    "r = httpx.get(\n",
    "    f\"{titiler_url}/cog/info\",\n",
    "    params = {\n",
    "        \"url\": url,\n",
    "    }\n",
    ").json()\n",
    "\n",
    "# print(json.dumps(r, indent=4))\n",
    "\n",
    "bounds = r.get(\"bounds\")\n",
    "minzoom = r.get(\"minzoom\")\n",
    "zoom = minzoom + 1 if minzoom == 0 else minzoom\n",
    "bands = r.get(\"band_metadata\")\n",
    "\n",
    "print(\"Bounds:\", bounds)\n",
    "print(\"Zoom:\", zoom)\n",
    "print(\"Data type:\", r.get(\"dtype\"))\n",
    "print(\"Bands:\", bands)"
   ]
  },
  {
   "cell_type": "markdown",
   "metadata": {
    "tags": []
   },
   "source": [
    "#### Calculate raster center for map placement"
   ]
  },
  {
   "cell_type": "code",
   "execution_count": 16,
   "metadata": {
    "tags": []
   },
   "outputs": [
    {
     "name": "stdout",
     "output_type": "stream",
     "text": [
      "Center: (67.33350753789628, -163.0850160598097)\n"
     ]
    }
   ],
   "source": [
    "from shapely.geometry import box\n",
    "\n",
    "polygon = box(*bounds)\n",
    "center = (polygon.centroid.y, polygon.centroid.x)\n",
    "print(\"Center:\", center)"
   ]
  },
  {
   "cell_type": "markdown",
   "metadata": {
    "tags": []
   },
   "source": [
    "#### Get value statistics for rescaling"
   ]
  },
  {
   "cell_type": "code",
   "execution_count": 17,
   "metadata": {
    "tags": []
   },
   "outputs": [
    {
     "name": "stdout",
     "output_type": "stream",
     "text": [
      "minv: -1.829763650894165 maxv: 557.8629150390625\n"
     ]
    }
   ],
   "source": [
    "r = httpx.get(\n",
    "    f\"{titiler_url}/cog/statistics\",\n",
    "    params = {\n",
    "        \"url\": url,\n",
    "    }\n",
    ").json()\n",
    "\n",
    "# print(json.dumps(r, indent=4))\n",
    "band = r.get(\"b1\")\n",
    "if band:\n",
    "    band_min, band_max = band.get(\"min\"), band.get(\"max\")\n",
    "    print(\"min:\", band_min, \"max:\", band_max)"
   ]
  },
  {
   "cell_type": "markdown",
   "metadata": {},
   "source": [
    "### Display local raster"
   ]
  },
  {
   "cell_type": "markdown",
   "metadata": {},
   "source": [
    "#### Create TileLayer"
   ]
  },
  {
   "cell_type": "code",
   "execution_count": 19,
   "metadata": {
    "tags": []
   },
   "outputs": [],
   "source": [
    "from ipyleaflet import TileLayer\n",
    "\n",
    "params = {\n",
    "    \"url\": url,\n",
    "    \"tile_scale\": \"1\",\n",
    "    \"tile_format\": \"png\",\n",
    "    \"TileMatrixSetId\": \"WebMercatorQuad\",\n",
    "    \"return_mask\": \"true\",\n",
    "    \"rescale\": f\"{band_min}, {band_max}\",\n",
    "    \"resampling_method\": \"nearest\",\n",
    "    \"pixel_selection\": \"first\",\n",
    "    \"bidx\": \"1\",\n",
    "    \"colormap_name\": color_map\n",
    "}\n",
    "r = httpx.get(titiler_tilejson_url, params=params)\n",
    "\n",
    "if r.status_code == 200:\n",
    "    json = r.json()\n",
    "    layer_url = json['tiles'][0]\n",
    "    custom_layer = TileLayer(url=layer_url, show_loading=True, transparent=True)"
   ]
  },
  {
   "cell_type": "code",
   "execution_count": 20,
   "metadata": {
    "tags": []
   },
   "outputs": [
    {
     "data": {
      "application/vnd.jupyter.widget-view+json": {
       "model_id": "2efdfdb4829d4b8cad7b7e1134c52206",
       "version_major": 2,
       "version_minor": 0
      },
      "text/plain": [
       "HBox(children=(ToggleButton(value=False, description='Draw', icon='square-o', layout=Layout(border_bottom='1px…"
      ]
     },
     "metadata": {},
     "output_type": "display_data"
    },
    {
     "data": {
      "application/vnd.jupyter.widget-view+json": {
       "model_id": "cbd0566497db42748ddf829d1dc7f20a",
       "version_major": 2,
       "version_minor": 0
      },
      "text/plain": [
       "Output()"
      ]
     },
     "metadata": {},
     "output_type": "display_data"
    },
    {
     "name": "stdout",
     "output_type": "stream",
     "text": [
      "\n"
     ]
    },
    {
     "data": {
      "application/vnd.jupyter.widget-view+json": {
       "model_id": "adba37daf3bf4184bf6a822115cc331f",
       "version_major": 2,
       "version_minor": 0
      },
      "text/plain": [
       "StacIpyleaflet(center=[67.33350753789628, -163.0850160598097], controls=(ZoomControl(options=['position', 'zoo…"
      ]
     },
     "execution_count": 20,
     "metadata": {},
     "output_type": "execute_result"
    }
   ],
   "source": [
    "import stac_ipyleaflet\n",
    "\n",
    "m = stac_ipyleaflet.StacIpyleaflet(zoom=zoom, center=center)\n",
    "m.add_layer(custom_layer)\n",
    "m"
   ]
  },
  {
   "cell_type": "markdown",
   "metadata": {
    "jp-MarkdownHeadingCollapsed": true,
    "tags": []
   },
   "source": [
    "#### If adding layer after map was created, use the fit_bounds method to navigate to it\n",
    "`m.fit_bounds(bounds)`"
   ]
  },
  {
   "cell_type": "markdown",
   "metadata": {
    "tags": []
   },
   "source": [
    "#### Option to remove custom layer\n",
    "`m.remove_layer(custom_layer)`"
   ]
  },
  {
   "cell_type": "code",
   "execution_count": null,
   "metadata": {},
   "outputs": [],
   "source": []
  }
 ],
 "metadata": {
  "kernelspec": {
   "display_name": "Python 3 (ipykernel)",
   "language": "python",
   "name": "python3"
  },
  "language_info": {
   "codemirror_mode": {
    "name": "ipython",
    "version": 3
   },
   "file_extension": ".py",
   "mimetype": "text/x-python",
   "name": "python",
   "nbconvert_exporter": "python",
   "pygments_lexer": "ipython3",
   "version": "3.10.11"
  }
 },
 "nbformat": 4,
 "nbformat_minor": 4
}
