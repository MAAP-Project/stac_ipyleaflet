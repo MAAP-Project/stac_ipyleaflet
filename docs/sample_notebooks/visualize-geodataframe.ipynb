{
 "cells": [
  {
   "cell_type": "code",
   "execution_count": 1,
   "id": "1076dced-70e8-448e-84e9-0b35e21ce427",
   "metadata": {
    "tags": []
   },
   "outputs": [],
   "source": [
    "import os\n",
    "os.environ['USE_PYGEOS'] = '0'\n",
    "import geopandas\n",
    "from pathlib import Path"
   ]
  },
  {
   "cell_type": "markdown",
   "id": "1cb328be-2cb5-408c-b8bd-365ada170617",
   "metadata": {},
   "source": [
    "### Right-click on the file and select option to Copy Path"
   ]
  },
  {
   "cell_type": "code",
   "execution_count": 2,
   "id": "7bf748ba-4bcb-4922-96d0-41bad377e41e",
   "metadata": {
    "tags": []
   },
   "outputs": [
    {
     "name": "stdin",
     "output_type": "stream",
     "text": [
      "Path to file in bucket: ne_110m_land.geojson\n"
     ]
    }
   ],
   "source": [
    "path = input(\"Path to file in bucket:\")"
   ]
  },
  {
   "cell_type": "code",
   "execution_count": 3,
   "id": "dfdc653b-c341-4729-9d13-fc7c21eb9678",
   "metadata": {
    "tags": []
   },
   "outputs": [],
   "source": [
    "home = Path.home()\n",
    "f_path = f'{home}/{path}'"
   ]
  },
  {
   "cell_type": "code",
   "execution_count": 4,
   "id": "8b88a7b4-84b5-4965-830b-1a1d61e9655d",
   "metadata": {
    "tags": []
   },
   "outputs": [
    {
     "name": "stdout",
     "output_type": "stream",
     "text": [
      "FILE EXISTS AND IS COMPATIBLE\n"
     ]
    }
   ],
   "source": [
    "try:\n",
    "    if not Path(f_path).exists:\n",
    "        print('FILE DOES NOT EXIST!')\n",
    "    else:\n",
    "        if Path(f_path).suffix == \".geojson\":\n",
    "            print('FILE EXISTS AND IS COMPATIBLE')\n",
    "        else:\n",
    "            print('FILE EXISTS BUT IS INCOMPATIBLE')\n",
    "except CRSError:\n",
    "    print('error', OSError)"
   ]
  },
  {
   "cell_type": "markdown",
   "id": "f6fd34f6-e529-42b2-9617-10769198ba3b",
   "metadata": {},
   "source": [
    "### If compatible, open file & create GeoData layer using GeoPandas Dataframe"
   ]
  },
  {
   "cell_type": "code",
   "execution_count": 7,
   "id": "55b1663d-9a9d-418a-97da-1f89624af1d0",
   "metadata": {
    "tags": []
   },
   "outputs": [],
   "source": [
    "from ipyleaflet import GeoData\n",
    "\n",
    "# url = \"http://d2ad6b4ur7yvpq.cloudfront.net/naturalearth-3.3.0/ne_110m_land.geojson\"\n",
    "data = geopandas.read_file(f_path)\n",
    "\n",
    "geo_data = GeoData(\n",
    "    geo_dataframe = data,\n",
    "   style={'color': 'black', 'fillColor': '#3366cc', 'opacity':0.05, 'weight':1.9, 'dashArray':'2', 'fillOpacity':0.6},\n",
    "   hover_style={'fillColor': 'red' , 'fillOpacity': 0.2},\n",
    "   name = 'Natural Earth Countries'\n",
    ")"
   ]
  },
  {
   "cell_type": "code",
   "execution_count": 8,
   "id": "2408919b-90a8-4586-8e38-e76bc54adbc3",
   "metadata": {
    "tags": []
   },
   "outputs": [
    {
     "data": {
      "application/vnd.jupyter.widget-view+json": {
       "model_id": "6bb514eefc7540c88ddeeaa3ef047540",
       "version_major": 2,
       "version_minor": 0
      },
      "text/plain": [
       "HBox(children=(ToggleButton(value=False, description='Interact', icon='pencil', layout=Layout(border_bottom='1…"
      ]
     },
     "metadata": {},
     "output_type": "display_data"
    },
    {
     "data": {
      "application/vnd.jupyter.widget-view+json": {
       "model_id": "59fc002b694c45bf964a62fdb01b5b70",
       "version_major": 2,
       "version_minor": 0
      },
      "text/plain": [
       "Output()"
      ]
     },
     "metadata": {},
     "output_type": "display_data"
    },
    {
     "name": "stdout",
     "output_type": "stream",
     "text": [
      "\n"
     ]
    },
    {
     "data": {
      "application/vnd.jupyter.widget-view+json": {
       "model_id": "011425a2cb8d47fea605ccc870ae0f99",
       "version_major": 2,
       "version_minor": 0
      },
      "text/plain": [
       "Output()"
      ]
     },
     "metadata": {},
     "output_type": "display_data"
    },
    {
     "data": {
      "application/vnd.jupyter.widget-view+json": {
       "model_id": "f4b59c382bca47fe8965f54ebaf4ad35",
       "version_major": 2,
       "version_minor": 0
      },
      "text/plain": [
       "StacIpyleaflet(center=[20, 0], controls=(ZoomControl(options=['position', 'zoom_in_text', 'zoom_in_title', 'zo…"
      ]
     },
     "execution_count": 8,
     "metadata": {},
     "output_type": "execute_result"
    }
   ],
   "source": [
    "import stac_ipyleaflet\n",
    "\n",
    "m = stac_ipyleaflet.StacIpyleaflet()\n",
    "m.add_layer(geo_data)\n",
    "m"
   ]
  },
  {
   "cell_type": "code",
   "execution_count": null,
   "id": "23ae4988-0b73-41dc-887b-0f92475648c7",
   "metadata": {},
   "outputs": [],
   "source": []
  }
 ],
 "metadata": {
  "kernelspec": {
   "display_name": "Python [conda env:nasa-veda-singleuser]",
   "language": "python",
   "name": "conda-env-nasa-veda-singleuser-py"
  },
  "language_info": {
   "codemirror_mode": {
    "name": "ipython",
    "version": 3
   },
   "file_extension": ".py",
   "mimetype": "text/x-python",
   "name": "python",
   "nbconvert_exporter": "python",
   "pygments_lexer": "ipython3",
   "version": "3.10.12"
  }
 },
 "nbformat": 4,
 "nbformat_minor": 5
}
