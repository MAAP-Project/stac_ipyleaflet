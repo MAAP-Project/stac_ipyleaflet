{
 "cells": [
  {
   "cell_type": "code",
   "execution_count": 3,
   "id": "a23add21-c317-473e-b8c5-bc438ad60d3c",
   "metadata": {},
   "outputs": [
    {
     "name": "stdout",
     "output_type": "stream",
     "text": [
      "\u001b[33mWARNING: Running pip as the 'root' user can result in broken permissions and conflicting behaviour with the system package manager. It is recommended to use a virtual environment instead: https://pip.pypa.io/warnings/venv\u001b[0m\u001b[33m\n",
      "\u001b[0mNote: you may need to restart the kernel to use updated packages.\n"
     ]
    }
   ],
   "source": [
    "%pip install cogeo_mosaic --quiet"
   ]
  },
  {
   "cell_type": "markdown",
   "id": "c57f49da-642a-42de-a3be-0baf2cb01403",
   "metadata": {
    "tags": []
   },
   "source": [
    "### Set variables and helper functions"
   ]
  },
  {
   "cell_type": "code",
   "execution_count": 1,
   "id": "c01bd236-1fd7-4fd1-8d26-1a8cef645934",
   "metadata": {},
   "outputs": [],
   "source": [
    "import os\n",
    "\n",
    "titiler_url = \"https://titiler.maap-project.org\"\n",
    "min_zoom = 0\n",
    "max_zoom = 0\n",
    "band_min = 0\n",
    "band_max = 4000\n",
    "user = os.getenv('CHE_WORKSPACE_NAMESPACE')\n",
    "bucket = \"maap-ops-workspace\"\n",
    "color_map = \"gist_earth_r\""
   ]
  },
  {
   "cell_type": "code",
   "execution_count": 2,
   "id": "0cffd02e-87bb-46af-be38-3874d38161b3",
   "metadata": {},
   "outputs": [],
   "source": [
    "def checkFilePath(file_path):\n",
    "    result = s3.list_objects(Bucket=bucket, Prefix=file_path)\n",
    "    exists = True if 'Contents' in result else False\n",
    "    if exists:\n",
    "        print('PATH EXISTS')\n",
    "        return [i for i in result['Contents'] if i[\"Key\"].endswith('.tif')]\n",
    "    return exists"
   ]
  },
  {
   "cell_type": "markdown",
   "id": "76b4cba3-9250-49d9-ae7f-cf656bcffbd6",
   "metadata": {},
   "source": [
    "### Right-click on the _directory_ and select option to Copy Path"
   ]
  },
  {
   "cell_type": "code",
   "execution_count": null,
   "id": "93a28af5-4bcb-4ae0-a4b9-730e3b0fb9f5",
   "metadata": {},
   "outputs": [],
   "source": [
    "path = input(\"Path to directory with rasters:\")"
   ]
  },
  {
   "cell_type": "code",
   "execution_count": 4,
   "id": "caecfc5d-8066-4a4f-a2ad-7d25d44eb1e8",
   "metadata": {},
   "outputs": [
    {
     "name": "stdout",
     "output_type": "stream",
     "text": [
      "PATH EXISTS\n",
      "['s3://maap-ops-workspace/shared/alexdevseed/landsat8/viz/Landsat8_30542_comp_cog_2015-2020_dps.tif', 's3://maap-ops-workspace/shared/alexdevseed/landsat8/viz/Landsat8_30543_comp_cog_2015-2020_dps.tif', 's3://maap-ops-workspace/shared/alexdevseed/landsat8/viz/Landsat8_30822_comp_cog_2015-2020_dps.tif', 's3://maap-ops-workspace/shared/alexdevseed/landsat8/viz/Landsat8_30823_comp_cog_2015-2020_dps.tif']\n"
     ]
    }
   ],
   "source": [
    "import boto3\n",
    "\n",
    "s3 = boto3.client('s3')\n",
    "file_name = path.split('/', 1)[-1]\n",
    "if 'shared-buckets' in path:\n",
    "    file_path = f'shared/{file_name}'\n",
    "if 'my-private-bucket' in path:\n",
    "    file_path = f'{user}/{file_name}'\n",
    "if 'my-public-bucket' in path:\n",
    "    file_path = f'shared/{user}/{file_name}'\n",
    "    \n",
    "if file_path:\n",
    "    paths = checkFilePath(file_path)\n",
    "    files = [ i['Key'] for i in paths ]\n",
    "    files = ['s3://maap-ops-workspace/shared/alexdevseed/landsat8/viz/Landsat8_30542_comp_cog_2015-2020_dps.tif', 's3://maap-ops-workspace/shared/alexdevseed/landsat8/viz/Landsat8_30543_comp_cog_2015-2020_dps.tif']\n",
    "    print(files)"
   ]
  },
  {
   "cell_type": "markdown",
   "id": "0b5471ea-d325-41dd-aba7-4ea43c77e44a",
   "metadata": {
    "tags": []
   },
   "source": [
    "### Get raster info (bounds, zoom, data type) from first file in array of files"
   ]
  },
  {
   "cell_type": "code",
   "execution_count": 5,
   "id": "59e24eea-fb64-448a-8c92-6add5cf56539",
   "metadata": {},
   "outputs": [
    {
     "name": "stdout",
     "output_type": "stream",
     "text": [
      "Bounds: [-117.10749852280769, 50.78795362739066, -116.50936927974429, 51.16389512140189]\n",
      "Zoom: 9 min = 9 max = 12\n",
      "Data type: float32\n",
      "Bands: [['b1', {}], ['b2', {}], ['b3', {}], ['b4', {}], ['b5', {}], ['b6', {}], ['b7', {}], ['b8', {}], ['b9', {}], ['b10', {}], ['b11', {}], ['b12', {}], ['b13', {}], ['b14', {}], ['b15', {}], ['b16', {}], ['b17', {}], ['b18', {}]]\n"
     ]
    }
   ],
   "source": [
    "import httpx\n",
    "\n",
    "url = files[0]\n",
    "\n",
    "r = httpx.get(\n",
    "    f\"{titiler_url}/cog/info\",\n",
    "    params = {\n",
    "        \"url\": url,\n",
    "    }\n",
    ").json()\n",
    "\n",
    "if r.get('count') > 0:\n",
    "    bounds = r.get(\"bounds\")\n",
    "    min_zoom = r.get(\"minzoom\")\n",
    "    max_zoom = r.get(\"maxzoom\")\n",
    "    zoom = min_zoom + 1 if min_zoom == 0 else min_zoom\n",
    "    bands = r.get(\"band_metadata\")\n",
    "\n",
    "    print(\"Bounds:\", bounds)\n",
    "    print(\"Zoom:\", zoom, \"min =\", min_zoom, \"max =\", max_zoom)\n",
    "    print(\"Data type:\", r.get(\"dtype\"))\n",
    "    print(\"Bands:\", bands)"
   ]
  },
  {
   "cell_type": "markdown",
   "id": "497dcdce-a926-44d6-8c26-7ea68a87b8b0",
   "metadata": {
    "tags": []
   },
   "source": [
    "### Create mosaic from file urls"
   ]
  },
  {
   "cell_type": "code",
   "execution_count": 6,
   "id": "0ab5f576-cdf8-4494-a7ae-8110d9f583d3",
   "metadata": {},
   "outputs": [
    {
     "name": "stdout",
     "output_type": "stream",
     "text": [
      "Mosaic created!\n"
     ]
    }
   ],
   "source": [
    "from cogeo_mosaic.mosaic import MosaicJSON\n",
    "\n",
    "if min_zoom == 0 and max_zoom == 0:\n",
    "    print(\"Warning: missing zoom attributes!\")\n",
    "    \n",
    "mosaicdata = MosaicJSON.from_urls(files, minzoom=min_zoom, maxzoom=max_zoom)\n",
    "print(\"Mosaic created!\")"
   ]
  },
  {
   "cell_type": "markdown",
   "id": "3493ad6e-2d4b-4835-b3b3-32c11cfce6ea",
   "metadata": {
    "tags": []
   },
   "source": [
    "### Upload the mosaicjson to the TiTiler and filter for `tilejson` results"
   ]
  },
  {
   "cell_type": "code",
   "execution_count": 7,
   "id": "3bf7f0b2-e610-4568-86d0-1671e8a241c4",
   "metadata": {},
   "outputs": [],
   "source": [
    "mosaic_links = httpx.post(\n",
    "    url=f\"{titiler_url}/mosaics\",\n",
    "    headers={\n",
    "        \"Content-Type\": \"application/vnd.titiler.mosaicjson+json\",\n",
    "    },\n",
    "    json=mosaicdata.model_dump(exclude_none=True),\n",
    ").json()\n",
    "# print(mosaic_links)"
   ]
  },
  {
   "cell_type": "code",
   "execution_count": 8,
   "id": "81fc3e8d-2bcb-4bde-9382-626c5bfd756d",
   "metadata": {},
   "outputs": [
    {
     "data": {
      "text/plain": [
       "'https://titiler.maap-project.org/mosaics/a10f1b24-ecdd-4355-905d-282ef3b8d49a/tilejson.json'"
      ]
     },
     "execution_count": 8,
     "metadata": {},
     "output_type": "execute_result"
    }
   ],
   "source": [
    "tilejson_object = list(\n",
    "    filter(lambda x: x.get(\"rel\") == \"tilejson\", dict(mosaic_links)[\"links\"])\n",
    ")\n",
    "tilejson_url = tilejson_object[0][\"href\"]\n",
    "tilejson_url"
   ]
  },
  {
   "cell_type": "markdown",
   "id": "f4005232-2561-422a-be0f-b19588d00c25",
   "metadata": {
    "tags": []
   },
   "source": [
    "### Calculate raster center for map placement"
   ]
  },
  {
   "cell_type": "code",
   "execution_count": 9,
   "id": "20a4dea3-9800-4e17-8f01-0eced8187f0d",
   "metadata": {},
   "outputs": [],
   "source": [
    "r = httpx.get(tilejson_url).json()\n",
    "center_data = r.get('center')\n",
    "center = (center_data[1], center_data[0])\n",
    "zoom = center_data[2]"
   ]
  },
  {
   "cell_type": "code",
   "execution_count": 10,
   "id": "8594aa55-19b6-40d1-a0c3-458db8ed6c95",
   "metadata": {},
   "outputs": [
    {
     "name": "stdout",
     "output_type": "stream",
     "text": [
      "Center: (50.97592437439628, -116.80843390127599)\n"
     ]
    }
   ],
   "source": [
    "from shapely.geometry import box\n",
    "\n",
    "polygon = box(*bounds)\n",
    "center = (polygon.centroid.y, polygon.centroid.x)\n",
    "print(\"Center:\", center)"
   ]
  },
  {
   "cell_type": "markdown",
   "id": "ea64f4f8-a969-4f18-b7e1-3e1328094f57",
   "metadata": {
    "tags": []
   },
   "source": [
    "### Create the TileLayer"
   ]
  },
  {
   "cell_type": "code",
   "execution_count": 11,
   "id": "28aa16b6-169e-4e18-9974-3c7adc3d4dbe",
   "metadata": {},
   "outputs": [],
   "source": [
    "from ipyleaflet import TileLayer\n",
    "\n",
    "params = {\n",
    "    \"return_mask\": \"true\",\n",
    "    \"rescale\": f\"{band_min}, {band_max}\",\n",
    "    \"bidx\": \"1\",\n",
    "    \"colormap_name\": \"viridis\"\n",
    "}\n",
    "\n",
    "r = httpx.get(tilejson_url, params=params).json()\n",
    "\n",
    "layer_url = r['tiles'][0]\n",
    "custom_layer = TileLayer(url=layer_url, show_loading=True, transparent=True)"
   ]
  },
  {
   "cell_type": "markdown",
   "id": "6e62e0c8-c2e7-4206-9ec6-3ba0f3cb394b",
   "metadata": {},
   "source": [
    "### Add the mosaic tile layer to the map"
   ]
  },
  {
   "cell_type": "code",
   "execution_count": 12,
   "id": "5baf3795-3ba2-4886-beea-9caba02e851f",
   "metadata": {},
   "outputs": [
    {
     "data": {
      "application/vnd.jupyter.widget-view+json": {
       "model_id": "3c5e6977eed94e689d09a275bc9c52eb",
       "version_major": 2,
       "version_minor": 0
      },
      "text/plain": [
       "HBox(children=(ToggleButton(value=False, description='Draw', icon='square-o', layout=Layout(border_bottom='1px…"
      ]
     },
     "metadata": {},
     "output_type": "display_data"
    },
    {
     "data": {
      "application/vnd.jupyter.widget-view+json": {
       "model_id": "466110e1f42d4f4298c38d8fd3958369",
       "version_major": 2,
       "version_minor": 0
      },
      "text/plain": [
       "Output()"
      ]
     },
     "metadata": {},
     "output_type": "display_data"
    },
    {
     "name": "stdout",
     "output_type": "stream",
     "text": [
      "\n"
     ]
    },
    {
     "data": {
      "application/vnd.jupyter.widget-view+json": {
       "model_id": "554e948dbae84bbaaab17454c36bb047",
       "version_major": 2,
       "version_minor": 0
      },
      "text/plain": [
       "StacIpyleaflet(center=[50.97592437439628, -116.80843390127599], controls=(ZoomControl(options=['position', 'zo…"
      ]
     },
     "execution_count": 12,
     "metadata": {},
     "output_type": "execute_result"
    }
   ],
   "source": [
    "import stac_ipyleaflet\n",
    "\n",
    "m = stac_ipyleaflet.StacIpyleaflet(zoom=zoom, center=center)\n",
    "m.add_layer(custom_layer)\n",
    "m"
   ]
  }
 ],
 "metadata": {
  "kernelspec": {
   "display_name": "Python 3 (ipykernel)",
   "language": "python",
   "name": "python3"
  },
  "language_info": {
   "codemirror_mode": {
    "name": "ipython",
    "version": 3
   },
   "file_extension": ".py",
   "mimetype": "text/x-python",
   "name": "python",
   "nbconvert_exporter": "python",
   "pygments_lexer": "ipython3",
   "version": "3.10.11"
  }
 },
 "nbformat": 4,
 "nbformat_minor": 5
}
